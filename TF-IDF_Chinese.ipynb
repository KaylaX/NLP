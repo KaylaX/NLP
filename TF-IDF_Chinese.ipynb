{
 "cells": [
  {
   "cell_type": "code",
   "execution_count": 1,
   "metadata": {},
   "outputs": [],
   "source": [
    "import pandas as pd\n",
    "import re\n",
    "import jieba.posseg as pseg\n",
    "from snownlp import SnowNLP\n",
    "import os\n",
    "data = pd.read_csv('./captainmarvel700.csv')"
   ]
  },
  {
   "cell_type": "code",
   "execution_count": 2,
   "metadata": {},
   "outputs": [],
   "source": [
    "data['content']=[str(text) for text in data['content']]\n",
    "#convert traditional Chinese to simplified Chinese\n",
    "data['content']=[SnowNLP(i).han for i in data['content']]"
   ]
  },
  {
   "cell_type": "code",
   "execution_count": 3,
   "metadata": {},
   "outputs": [],
   "source": [
    "stop_words_path='./stopwords-chinese'\n",
    "stopwords1 = [line.rstrip() for line in open(os.path.join(stop_words_path, '中文停用词表.txt'), 'r', encoding='utf-8')]\n",
    "stopwords2 = [line.rstrip() for line in open(os.path.join(stop_words_path, '哈工大停用词表.txt'), 'r', encoding='utf-8')]\n",
    "stopwords3 = [line.rstrip() for line in open(os.path.join(stop_words_path, '四川大学机器智能实验室停用词库.txt'), 'r', encoding='utf-8')]\n",
    "stopwords = stopwords1 + stopwords2 + stopwords3"
   ]
  },
  {
   "cell_type": "code",
   "execution_count": 48,
   "metadata": {},
   "outputs": [],
   "source": [
    "def proc_text(raw_line):\n",
    "    \"\"\"\n",
    "        process texts\n",
    "        return words\n",
    "    \"\"\"\n",
    "\n",
    "    # 1. filter and keep Chinese characters only\n",
    "    filter_pattern = re.compile('[^\\u4E00-\\u9FD5]+')\n",
    "    chinese_only = filter_pattern.sub('', raw_line)\n",
    "\n",
    "    # 2. segmentation with jieba and part-of-speech tagging\n",
    "    word_list = pseg.cut(chinese_only)\n",
    "\n",
    "    # 3. delete stopwords and \n",
    "    # only keep adjectives, adverbs and nouns\n",
    "    used_flags = ['a', 'ad','n']\n",
    "    meaninful_words = []\n",
    "    for word, flag in word_list:\n",
    "        if (word not in stopwords) and (flag in used_flags):\n",
    "            meaninful_words.append(word)\n",
    "    return ' '.join(meaninful_words)"
   ]
  },
  {
   "cell_type": "code",
   "execution_count": 49,
   "metadata": {},
   "outputs": [],
   "source": [
    "data['words'] = data['content'].apply(proc_text)"
   ]
  },
  {
   "cell_type": "code",
   "execution_count": 50,
   "metadata": {},
   "outputs": [
    {
     "data": {
      "text/plain": [
       "0                                                 马克\n",
       "1                                              女Boss\n",
       "2                                              一星预订。\n",
       "3                           经期队长 从名字就能知道 1:是女的 2:惹不起\n",
       "4             看电影呈现的效果吧，目前漫威的表现都还好，这么关键的英雄，不会砸自己招牌的。\n",
       "5                                                李佩斯\n",
       "6                                               顺序21\n",
       "7                                         穿这么严实干嘛...\n",
       "8                                              快上映啊！\n",
       "9                                      三八妇女节上映吗，有点含意\n",
       "10                                             支持布丽！\n",
       "11                                   会是深入人心的角色的，相信影后\n",
       "12                            欢迎裘德洛来到漫威宇宙，欢迎科尔森特工回归。\n",
       "13                                          漫威宇宙铺的好大\n",
       "14    裘花终于也来到了漫威宇宙，这是怎样的盛世啊，想看两代福华正面飙戏，想看糖球在mcu铜矿嘤嘤嘤\n",
       "15                                         看漫威队长手撕灭霸\n",
       "16                                     封面很令人深思啊 寇森命大\n",
       "17          漫威家的粉丝认证！以后每部mcu都会去影院支持！拍个一百部吧，活该你们会赚钱:）\n",
       "18                          理清了整个宇宙，虽然知道剧情走向但是还是特别期待\n",
       "19                    漫威以后挑女主都按照这种标准来的话，那我大DC宇宙再起有望。\n",
       "Name: content, dtype: object"
      ]
     },
     "execution_count": 50,
     "metadata": {},
     "output_type": "execute_result"
    }
   ],
   "source": [
    "data['content'].head(20)"
   ]
  },
  {
   "cell_type": "code",
   "execution_count": 51,
   "metadata": {},
   "outputs": [
    {
     "data": {
      "text/plain": [
       "0               \n",
       "1               \n",
       "2              星\n",
       "3       经期 队长 名字\n",
       "4    电影 效果 漫威 关键\n",
       "Name: words, dtype: object"
      ]
     },
     "execution_count": 51,
     "metadata": {},
     "output_type": "execute_result"
    }
   ],
   "source": [
    "data['words'].head()"
   ]
  },
  {
   "cell_type": "code",
   "execution_count": 52,
   "metadata": {},
   "outputs": [],
   "source": [
    "from sklearn import feature_extraction\n",
    "from sklearn.feature_extraction.text import TfidfVectorizer\n",
    "\n",
    "vectorizer = TfidfVectorizer(min_df=1)\n",
    "tfidf=vectorizer.fit_transform(data['words'])"
   ]
  },
  {
   "cell_type": "code",
   "execution_count": 53,
   "metadata": {},
   "outputs": [],
   "source": [
    "words = vectorizer.get_feature_names()\n",
    "tfidf_dict= {key:0 for key in words if len(key) > 1}\n",
    "for i in range(0,len(data)):\n",
    "    for j in range(len(words)):\n",
    "        if tfidf[i,j] > 1e-5:\n",
    "              tfidf_dict[words[j]]=tfidf[i,j]"
   ]
  },
  {
   "cell_type": "code",
   "execution_count": 54,
   "metadata": {},
   "outputs": [],
   "source": [
    "tfidf_df= pd.DataFrame(list(tfidf_dict.items()), columns=['word','TF-IDF'])"
   ]
  },
  {
   "cell_type": "code",
   "execution_count": 59,
   "metadata": {},
   "outputs": [
    {
     "data": {
      "text/html": [
       "<div>\n",
       "<style scoped>\n",
       "    .dataframe tbody tr th:only-of-type {\n",
       "        vertical-align: middle;\n",
       "    }\n",
       "\n",
       "    .dataframe tbody tr th {\n",
       "        vertical-align: top;\n",
       "    }\n",
       "\n",
       "    .dataframe thead th {\n",
       "        text-align: right;\n",
       "    }\n",
       "</style>\n",
       "<table border=\"1\" class=\"dataframe\">\n",
       "  <thead>\n",
       "    <tr style=\"text-align: right;\">\n",
       "      <th></th>\n",
       "      <th>word</th>\n",
       "      <th>TF-IDF</th>\n",
       "    </tr>\n",
       "  </thead>\n",
       "  <tbody>\n",
       "    <tr>\n",
       "      <th>601</th>\n",
       "      <td>恶臭</td>\n",
       "      <td>1.0</td>\n",
       "    </tr>\n",
       "    <tr>\n",
       "      <th>917</th>\n",
       "      <td>理由</td>\n",
       "      <td>1.0</td>\n",
       "    </tr>\n",
       "    <tr>\n",
       "      <th>720</th>\n",
       "      <td>日子</td>\n",
       "      <td>1.0</td>\n",
       "    </tr>\n",
       "    <tr>\n",
       "      <th>846</th>\n",
       "      <td>演员表</td>\n",
       "      <td>1.0</td>\n",
       "    </tr>\n",
       "    <tr>\n",
       "      <th>689</th>\n",
       "      <td>收藏夹</td>\n",
       "      <td>1.0</td>\n",
       "    </tr>\n",
       "    <tr>\n",
       "      <th>850</th>\n",
       "      <td>漫威</td>\n",
       "      <td>1.0</td>\n",
       "    </tr>\n",
       "    <tr>\n",
       "      <th>130</th>\n",
       "      <td>俱乐部</td>\n",
       "      <td>1.0</td>\n",
       "    </tr>\n",
       "    <tr>\n",
       "      <th>154</th>\n",
       "      <td>全村人</td>\n",
       "      <td>1.0</td>\n",
       "    </tr>\n",
       "    <tr>\n",
       "      <th>169</th>\n",
       "      <td>兴趣</td>\n",
       "      <td>1.0</td>\n",
       "    </tr>\n",
       "    <tr>\n",
       "      <th>879</th>\n",
       "      <td>爱女</td>\n",
       "      <td>1.0</td>\n",
       "    </tr>\n",
       "    <tr>\n",
       "      <th>192</th>\n",
       "      <td>凑齐</td>\n",
       "      <td>1.0</td>\n",
       "    </tr>\n",
       "    <tr>\n",
       "      <th>1159</th>\n",
       "      <td>认真</td>\n",
       "      <td>1.0</td>\n",
       "    </tr>\n",
       "    <tr>\n",
       "      <th>911</th>\n",
       "      <td>现场</td>\n",
       "      <td>1.0</td>\n",
       "    </tr>\n",
       "    <tr>\n",
       "      <th>265</th>\n",
       "      <td>发际</td>\n",
       "      <td>1.0</td>\n",
       "    </tr>\n",
       "    <tr>\n",
       "      <th>1286</th>\n",
       "      <td>预告片</td>\n",
       "      <td>1.0</td>\n",
       "    </tr>\n",
       "    <tr>\n",
       "      <th>1125</th>\n",
       "      <td>蛤蛤</td>\n",
       "      <td>1.0</td>\n",
       "    </tr>\n",
       "    <tr>\n",
       "      <th>272</th>\n",
       "      <td>变性</td>\n",
       "      <td>1.0</td>\n",
       "    </tr>\n",
       "    <tr>\n",
       "      <th>565</th>\n",
       "      <td>影后</td>\n",
       "      <td>1.0</td>\n",
       "    </tr>\n",
       "    <tr>\n",
       "      <th>426</th>\n",
       "      <td>妇女节</td>\n",
       "      <td>1.0</td>\n",
       "    </tr>\n",
       "    <tr>\n",
       "      <th>781</th>\n",
       "      <td>样子</td>\n",
       "      <td>1.0</td>\n",
       "    </tr>\n",
       "  </tbody>\n",
       "</table>\n",
       "</div>"
      ],
      "text/plain": [
       "     word  TF-IDF\n",
       "601    恶臭     1.0\n",
       "917    理由     1.0\n",
       "720    日子     1.0\n",
       "846   演员表     1.0\n",
       "689   收藏夹     1.0\n",
       "850    漫威     1.0\n",
       "130   俱乐部     1.0\n",
       "154   全村人     1.0\n",
       "169    兴趣     1.0\n",
       "879    爱女     1.0\n",
       "192    凑齐     1.0\n",
       "1159   认真     1.0\n",
       "911    现场     1.0\n",
       "265    发际     1.0\n",
       "1286  预告片     1.0\n",
       "1125   蛤蛤     1.0\n",
       "272    变性     1.0\n",
       "565    影后     1.0\n",
       "426   妇女节     1.0\n",
       "781    样子     1.0"
      ]
     },
     "execution_count": 59,
     "metadata": {},
     "output_type": "execute_result"
    }
   ],
   "source": [
    "tfidf_df.sort_values(by='TF-IDF',ascending=False).head(20)"
   ]
  }
 ],
 "metadata": {
  "kernelspec": {
   "display_name": "Python 3",
   "language": "python",
   "name": "python3"
  },
  "language_info": {
   "codemirror_mode": {
    "name": "ipython",
    "version": 3
   },
   "file_extension": ".py",
   "mimetype": "text/x-python",
   "name": "python",
   "nbconvert_exporter": "python",
   "pygments_lexer": "ipython3",
   "version": "3.6.5"
  }
 },
 "nbformat": 4,
 "nbformat_minor": 2
}
